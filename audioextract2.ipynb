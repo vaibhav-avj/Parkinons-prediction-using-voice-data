{
 "cells": [
  {
   "cell_type": "code",
   "execution_count": 9,
   "metadata": {},
   "outputs": [
    {
     "name": "stdout",
     "output_type": "stream",
     "text": [
      "Jitter: 0.17422982 <class 'numpy.ndarray'>\n",
      "Shimmer: 0.0008525151541902065\n",
      "HNR: 2.020794499305824\n",
      "PPE: 0.18796121615220715\n",
      "NHR: -0.006276837084260266\n",
      "\n",
      "\n"
     ]
    }
   ],
   "source": [
    "import librosa \n",
    "import glob\n",
    "import numpy as np\n",
    "import parselmouth\n",
    "from parselmouth.praat import call\n",
    "\n",
    " # load the wav file \n",
    "\n",
    "def extract_values(filename):\n",
    "    for wave_file in glob.glob(\"./Recordings/\" + filename): \n",
    "        y, sr = librosa.load(wave_file)\n",
    "        sound = parselmouth.Sound(wave_file) \n",
    "\n",
    "        # extract the acoustic features \n",
    "        mfcc = librosa.feature.mfcc(y=y, sr=sr) \n",
    "        zcr = librosa.feature.zero_crossing_rate(y) \n",
    "        rms = librosa.feature.rms(y=y) \n",
    "        spec_cent = librosa.feature.spectral_centroid(y=y, sr=sr) \n",
    "        spec_bw = librosa.feature.spectral_bandwidth(y=y, sr=sr) \n",
    "        rolloff = librosa.feature.spectral_rolloff(y=y, sr=sr) \n",
    "\n",
    "        # extract jitter, shimmer, HNR, RPDE, DFA, PPE, and NHR \n",
    "        jitter = librosa.feature.delta(mfcc, order=1) \n",
    "        shimmer = librosa.feature.delta(zcr) \n",
    "        harmonicity = call(sound, \"To Harmonicity (cc)\", 0.01, 75, 0.1, 1.0)\n",
    "        hnr = call(harmonicity, \"Get mean\", 0, 0)\n",
    "        # rpde = librosa.feature.rpde(y=y, sr=sr) \n",
    "        # dfa = librosa.feature.dfa(y=y, sr=sr) \n",
    "        ppe = librosa.feature.poly_features(y=y, sr=sr) \n",
    "        nhr = librosa.feature.tonnetz(y=y, sr=sr)\n",
    "\n",
    "        print(\"Jitter:\", np.mean(jitter), type(jitter)) \n",
    "        print(\"Shimmer:\", np.mean(shimmer)) \n",
    "        print(\"HNR:\", np.mean(hnr)) \n",
    "        #print(\"RPDE:\", rpde) \n",
    "        #print(\"DFA:\", dfa) \n",
    "        print(\"PPE:\", np.mean(ppe))\n",
    "        print(\"NHR:\", np.mean(nhr))\n",
    "        print(\"\\n\")\n",
    "\n",
    "        values = [jitter, shimmer, hnr, ppe, nhr]\n",
    "\n",
    "        return values\n",
    "\n",
    "ans = extract_values('rec1.wav')"
   ]
  }
 ],
 "metadata": {
  "kernelspec": {
   "display_name": "Python 3",
   "language": "python",
   "name": "python3"
  },
  "language_info": {
   "codemirror_mode": {
    "name": "ipython",
    "version": 3
   },
   "file_extension": ".py",
   "mimetype": "text/x-python",
   "name": "python",
   "nbconvert_exporter": "python",
   "pygments_lexer": "ipython3",
   "version": "3.10.1"
  },
  "orig_nbformat": 4
 },
 "nbformat": 4,
 "nbformat_minor": 2
}
