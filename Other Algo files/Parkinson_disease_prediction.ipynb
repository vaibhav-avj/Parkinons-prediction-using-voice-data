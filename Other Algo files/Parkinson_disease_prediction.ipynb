{
 "cells": [
  {
   "cell_type": "code",
   "execution_count": 1,
   "metadata": {
    "colab": {
     "base_uri": "https://localhost:8080/",
     "height": 72
    },
    "colab_type": "code",
    "id": "rkX5JvbK8o3b",
    "outputId": "4d797d0f-518a-4fa4-e9e6-ee19bc45531f"
   },
   "outputs": [],
   "source": [
    "import numpy as np\n",
    "import pandas as pd\n",
    "import matplotlib.pyplot as plt\n",
    "import seaborn as sns\n",
    "%matplotlib inline"
   ]
  },
  {
   "cell_type": "code",
   "execution_count": 20,
   "metadata": {
    "colab": {},
    "colab_type": "code",
    "id": "wP2SVu0P9LXS"
   },
   "outputs": [],
   "source": [
    "df = pd.read_csv('parkinsons.csv')"
   ]
  },
  {
   "cell_type": "code",
   "execution_count": 23,
   "metadata": {
    "colab": {
     "base_uri": "https://localhost:8080/",
     "height": 226
    },
    "colab_type": "code",
    "id": "Gv0OtyTH9WYn",
    "outputId": "3d0e2fdf-f8cb-4140-b18d-7b0ca995e22f",
    "scrolled": true
   },
   "outputs": [
    {
     "data": {
      "text/html": [
       "<div>\n",
       "<style scoped>\n",
       "    .dataframe tbody tr th:only-of-type {\n",
       "        vertical-align: middle;\n",
       "    }\n",
       "\n",
       "    .dataframe tbody tr th {\n",
       "        vertical-align: top;\n",
       "    }\n",
       "\n",
       "    .dataframe thead th {\n",
       "        text-align: right;\n",
       "    }\n",
       "</style>\n",
       "<table border=\"1\" class=\"dataframe\">\n",
       "  <thead>\n",
       "    <tr style=\"text-align: right;\">\n",
       "      <th></th>\n",
       "      <th>MDVP:Fo(Hz)</th>\n",
       "      <th>MDVP:Fhi(Hz)</th>\n",
       "      <th>MDVP:Flo(Hz)</th>\n",
       "      <th>MDVP:Jitter(%)</th>\n",
       "      <th>MDVP:Shimmer</th>\n",
       "      <th>NHR</th>\n",
       "      <th>status</th>\n",
       "    </tr>\n",
       "  </thead>\n",
       "  <tbody>\n",
       "    <tr>\n",
       "      <th>0</th>\n",
       "      <td>119.992</td>\n",
       "      <td>157.302</td>\n",
       "      <td>74.997</td>\n",
       "      <td>0.00784</td>\n",
       "      <td>0.04374</td>\n",
       "      <td>0.02211</td>\n",
       "      <td>1</td>\n",
       "    </tr>\n",
       "    <tr>\n",
       "      <th>1</th>\n",
       "      <td>122.400</td>\n",
       "      <td>148.650</td>\n",
       "      <td>113.819</td>\n",
       "      <td>0.00968</td>\n",
       "      <td>0.06134</td>\n",
       "      <td>0.01929</td>\n",
       "      <td>1</td>\n",
       "    </tr>\n",
       "    <tr>\n",
       "      <th>2</th>\n",
       "      <td>116.682</td>\n",
       "      <td>131.111</td>\n",
       "      <td>111.555</td>\n",
       "      <td>0.01050</td>\n",
       "      <td>0.05233</td>\n",
       "      <td>0.01309</td>\n",
       "      <td>1</td>\n",
       "    </tr>\n",
       "    <tr>\n",
       "      <th>3</th>\n",
       "      <td>116.676</td>\n",
       "      <td>137.871</td>\n",
       "      <td>111.366</td>\n",
       "      <td>0.00997</td>\n",
       "      <td>0.05492</td>\n",
       "      <td>0.01353</td>\n",
       "      <td>1</td>\n",
       "    </tr>\n",
       "    <tr>\n",
       "      <th>4</th>\n",
       "      <td>116.014</td>\n",
       "      <td>141.781</td>\n",
       "      <td>110.655</td>\n",
       "      <td>0.01284</td>\n",
       "      <td>0.06425</td>\n",
       "      <td>0.01767</td>\n",
       "      <td>1</td>\n",
       "    </tr>\n",
       "  </tbody>\n",
       "</table>\n",
       "</div>"
      ],
      "text/plain": [
       "   MDVP:Fo(Hz)  MDVP:Fhi(Hz)  MDVP:Flo(Hz)  MDVP:Jitter(%)  MDVP:Shimmer  \\\n",
       "0      119.992       157.302        74.997         0.00784       0.04374   \n",
       "1      122.400       148.650       113.819         0.00968       0.06134   \n",
       "2      116.682       131.111       111.555         0.01050       0.05233   \n",
       "3      116.676       137.871       111.366         0.00997       0.05492   \n",
       "4      116.014       141.781       110.655         0.01284       0.06425   \n",
       "\n",
       "       NHR  status  \n",
       "0  0.02211       1  \n",
       "1  0.01929       1  \n",
       "2  0.01309       1  \n",
       "3  0.01353       1  \n",
       "4  0.01767       1  "
      ]
     },
     "execution_count": 23,
     "metadata": {},
     "output_type": "execute_result"
    }
   ],
   "source": [
    "# df.describe()\n",
    "# df.drop(['MDVP:Jitter(Abs)','MDVP:RAP','MDVP:PPQ','Jitter:DDP','MDVP:Shimmer(dB)','Shimmer:APQ3','Shimmer:APQ5','MDVP:APQ','Shimmer:DDA','HNR','name','RPDE','DFA','spread1','spread2','D2','PPE'],axis=1, inplace=True )\n",
    "\n",
    "df.head()"
   ]
  },
  {
   "cell_type": "code",
   "execution_count": 25,
   "metadata": {
    "colab": {},
    "colab_type": "code",
    "id": "dxQ6JOie9Xbb"
   },
   "outputs": [
    {
     "name": "stderr",
     "output_type": "stream",
     "text": [
      "C:\\Users\\VAIBHA~1\\AppData\\Local\\Temp/ipykernel_15832/1174893700.py:2: FutureWarning: In a future version of pandas all arguments of DataFrame.drop except for the argument 'labels' will be keyword-only.\n",
      "  X = df.drop(['status'],1)\n"
     ]
    }
   ],
   "source": [
    "# df.drop(['name'],axis=1,inplace = True)\n",
    "X = df.drop(['status'],1)\n",
    "y = df.status"
   ]
  },
  {
   "cell_type": "code",
   "execution_count": 9,
   "metadata": {
    "colab": {},
    "colab_type": "code",
    "id": "wKatUycK9rsM"
   },
   "outputs": [],
   "source": [
    "from sklearn.model_selection import train_test_split\n",
    "from sklearn.ensemble import RandomForestClassifier\n",
    "from sklearn.metrics import confusion_matrix, accuracy_score"
   ]
  },
  {
   "cell_type": "code",
   "execution_count": 26,
   "metadata": {
    "colab": {
     "base_uri": "https://localhost:8080/",
     "height": 86
    },
    "colab_type": "code",
    "id": "pKGfQR-D9_Fp",
    "outputId": "3fdd22e5-bb23-4167-fc80-ade420a18195"
   },
   "outputs": [],
   "source": [
    "# split train & test data\n",
    "X_train,X_test,y_train,y_test = train_test_split(X,y,random_state=3)\n",
    "# print(X_train.shape)\n",
    "# print(y_train.shape)\n",
    "# print(X_test.shape)\n",
    "# print(y_test.shape)\n",
    "\n",
    "# # print(\"Yeh X train hai\")\n",
    "# # print(X_train)\n",
    "\n",
    "# # print(\"Yeh Y train hai\")\n",
    "# # print(y_train)\n",
    "\n",
    "# # print(\"Yeh X test hai\")\n",
    "# # print(X_test)\n",
    "\n",
    "# print(\"Yeh y test hai\")\n",
    "# print(X_test)\n",
    "\n",
    "# # print(X)\n",
    "# # print(\"Y starts here\")\n",
    "# # print(y)"
   ]
  },
  {
   "cell_type": "code",
   "execution_count": 27,
   "metadata": {
    "colab": {},
    "colab_type": "code",
    "id": "yfdlDoi8-OhS"
   },
   "outputs": [
    {
     "data": {
      "text/plain": [
       "RandomForestClassifier()"
      ]
     },
     "execution_count": 27,
     "metadata": {},
     "output_type": "execute_result"
    }
   ],
   "source": [
    "# create & train model\n",
    "clf = RandomForestClassifier()\n",
    "clf.fit(X_train,y_train)\n",
    "\n",
    "# y_pred = clf.predict(X_test)"
   ]
  },
  {
   "cell_type": "code",
   "execution_count": 28,
   "metadata": {},
   "outputs": [
    {
     "name": "stdout",
     "output_type": "stream",
     "text": [
      "        Fo     Fhi     Flo   Jitter  Shimmer     NHR\n",
      "0  150.008  209.99  86.647  0.00345  0.06737  0.2593\n"
     ]
    },
    {
     "name": "stderr",
     "output_type": "stream",
     "text": [
      "c:\\Users\\Vaibhav A\\AppData\\Local\\Programs\\Python\\Python310\\lib\\site-packages\\sklearn\\base.py:450: UserWarning: X does not have valid feature names, but RandomForestClassifier was fitted with feature names\n",
      "  warnings.warn(\n"
     ]
    }
   ],
   "source": [
    "user_vals = {'Fo' : [150.0080], 'Fhi': [209.990],'Flo' : [86.647], 'Jitter' : [0.00345], 'Shimmer' : [0.06737], 'NHR' : 0.25930}\n",
    "\n",
    "User_test = pd.DataFrame(user_vals)\n",
    "\n",
    "print(User_test)\n",
    "y_pred = clf.predict(User_test.values)\n"
   ]
  },
  {
   "cell_type": "code",
   "execution_count": 30,
   "metadata": {
    "colab": {
     "base_uri": "https://localhost:8080/",
     "height": 34
    },
    "colab_type": "code",
    "id": "DZ5BHT2s-h73",
    "outputId": "3946855e-2e87-4c37-c73c-bc526b405336"
   },
   "outputs": [
    {
     "name": "stdout",
     "output_type": "stream",
     "text": [
      "[1]\n"
     ]
    }
   ],
   "source": [
    "print(y_pred)\n",
    "# print('Accuracy : ',accuracy_score(y_test,y_pred)*100,'%')"
   ]
  },
  {
   "cell_type": "code",
   "execution_count": 31,
   "metadata": {
    "colab": {
     "base_uri": "https://localhost:8080/",
     "height": 34
    },
    "colab_type": "code",
    "id": "zWr9gilS_A5j",
    "outputId": "41d2239e-d21b-4f84-8b99-7cbf3dc17693"
   },
   "outputs": [
    {
     "data": {
      "text/plain": [
       "(146, 6)"
      ]
     },
     "execution_count": 31,
     "metadata": {},
     "output_type": "execute_result"
    }
   ],
   "source": [
    "# Using deep learning\n",
    "X_train.shape"
   ]
  },
  {
   "cell_type": "code",
   "execution_count": null,
   "metadata": {
    "colab": {
     "base_uri": "https://localhost:8080/",
     "height": 34
    },
    "colab_type": "code",
    "id": "562u_DwE_EHg",
    "outputId": "04ba20a1-12f4-42e3-f383-09b0f13b5a9c"
   },
   "outputs": [],
   "source": [
    "from keras.layers import Dense,Activation,BatchNormalization,Dropout\n",
    "from keras.models import Sequential\n",
    "from keras.utils.np_utils import to_categorical\n",
    "from keras.wrappers.scikit_learn import KerasClassifier\n",
    "from sklearn.ensemble import VotingClassifier"
   ]
  },
  {
   "cell_type": "code",
   "execution_count": null,
   "metadata": {
    "colab": {},
    "colab_type": "code",
    "id": "TMUkqVHM_dhi"
   },
   "outputs": [],
   "source": [
    "model = Sequential()\n",
    "X=X.values.reshape((X.shape[0],-1))\n",
    "y=y.values.reshape((y.shape[0],-1))\n",
    "# split train & test data\n",
    "X_train,X_test,y_train,y_test = train_test_split(X,y,random_state=3)\n",
    "\n",
    "from sklearn.preprocessing import StandardScaler\n",
    "sc = StandardScaler()\n",
    "X_train = sc.fit_transform(X_train)\n",
    "X_test = sc.transform(X_test)\n",
    "\n",
    "def create_model():\n",
    "  model.add(Dense(10,input_shape=(22,),kernel_initializer='he_normal'))\n",
    "  model.add(Activation('relu'))\n",
    "  \n",
    "  model.add(Dense(50,activation='relu',kernel_initializer='he_normal'))\n",
    "  model.add(BatchNormalization())\n",
    "  model.add(Dense(50,activation='relu',kernel_initializer='he_normal'))\n",
    "  model.add(BatchNormalization())\n",
    "  model.add(Dropout(0.3))\n",
    "  model.add(Dense(50,activation='relu',kernel_initializer='he_normal'))\n",
    "  model.add(BatchNormalization())\n",
    "  model.add(Dropout(0.3))\n",
    "  model.add(Dense(10,activation='softmax',kernel_initializer='he_normal'))\n",
    "  model.compile(optimizer = 'adam' ,loss='sparse_categorical_crossentropy',metrics=['accuracy'])\n",
    "   \n",
    "  return model"
   ]
  },
  {
   "cell_type": "code",
   "execution_count": null,
   "metadata": {},
   "outputs": [],
   "source": [
    "print(X_train.shape)\n",
    "print(y_train.shape)\n"
   ]
  },
  {
   "cell_type": "code",
   "execution_count": null,
   "metadata": {
    "colab": {
     "base_uri": "https://localhost:8080/",
     "height": 1000
    },
    "colab_type": "code",
    "id": "NiGCuAdjBmdv",
    "outputId": "27ec8905-928d-40e1-a195-c38aee529485"
   },
   "outputs": [],
   "source": [
    "model1 = KerasClassifier(build_fn = create_model,epochs=100)\n",
    "model2 = KerasClassifier(build_fn = create_model,epochs=100)\n",
    "model3 = KerasClassifier(build_fn = create_model,epochs=100)\n",
    "model1._estimator_type = \"classifier\"\n",
    "model2._estimator_type = \"classifier\"\n",
    "model3._estimator_type = \"classifier\"\n",
    "\n",
    "ensemble_clf = VotingClassifier(estimators = [('model1',model1),('model2',model2),('model3',model3)],voting='soft')\n",
    "\n",
    "ensemble_clf.fit(X_train,y_train)"
   ]
  },
  {
   "cell_type": "code",
   "execution_count": null,
   "metadata": {
    "colab": {
     "base_uri": "https://localhost:8080/",
     "height": 86
    },
    "colab_type": "code",
    "id": "V_pawXIhCdxX",
    "outputId": "e3b6475b-2128-4d91-c4bd-b1f5c4e0fb16"
   },
   "outputs": [],
   "source": [
    "print(X_train.shape)\n",
    "print(y_train.shape)\n",
    "print(X_test.shape)\n",
    "print(y_test.shape)\n",
    "\n",
    "# print(\"Yeh X train hai\")\n",
    "# print(X_train)\n",
    "\n",
    "# print(\"Yeh Y train hai\")\n",
    "# print(y_train)\n",
    "\n",
    "# print(\"Yeh X test hai\")\n",
    "# print(X_test)\n",
    "\n",
    "# print(\"Yeh y test hai\")\n",
    "# print(y_test)\n"
   ]
  },
  {
   "cell_type": "code",
   "execution_count": null,
   "metadata": {},
   "outputs": [],
   "source": [
    "print(type(X_test))\n",
    "\n",
    "user_fo = 150.008\n",
    "user_fhi = 209.990\n",
    "user_flo = 86.647\n",
    "user_jitter = 0.00345\n",
    "\n",
    "\n",
    "\n",
    "# print(User_test)"
   ]
  },
  {
   "cell_type": "code",
   "execution_count": null,
   "metadata": {
    "colab": {
     "base_uri": "https://localhost:8080/",
     "height": 34
    },
    "colab_type": "code",
    "id": "ytq2Am8bKicA",
    "outputId": "25108e2d-f048-4804-fcfe-4bb401abca07"
   },
   "outputs": [],
   "source": [
    "y_prediction_ = ensemble_clf.predict(X_test)\n",
    "# print('Accuracy : ',accuracy_score(y_test,y_prediction_)*100,'%')\n",
    "\n",
    "print(y_prediction_)"
   ]
  }
 ],
 "metadata": {
  "colab": {
   "collapsed_sections": [],
   "name": "new_code.ipynb",
   "provenance": []
  },
  "kernelspec": {
   "display_name": "Python 3 (ipykernel)",
   "language": "python",
   "name": "python3"
  },
  "language_info": {
   "codemirror_mode": {
    "name": "ipython",
    "version": 3
   },
   "file_extension": ".py",
   "mimetype": "text/x-python",
   "name": "python",
   "nbconvert_exporter": "python",
   "pygments_lexer": "ipython3",
   "version": "3.10.1"
  },
  "vscode": {
   "interpreter": {
    "hash": "7e4ec771783b378d4ba76dae6f60e58ce056e6f3fc468e0ecd3758d9441ace60"
   }
  }
 },
 "nbformat": 4,
 "nbformat_minor": 1
}
