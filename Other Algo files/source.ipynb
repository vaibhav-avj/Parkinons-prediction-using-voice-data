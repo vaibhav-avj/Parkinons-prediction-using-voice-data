{
 "cells": [
  {
   "cell_type": "code",
   "execution_count": 12,
   "metadata": {},
   "outputs": [],
   "source": [
    "import numpy as np\n",
    "import pandas as pd\n",
    "import matplotlib.pyplot as plt\n",
    "import seaborn as sns\n",
    "%matplotlib inline"
   ]
  },
  {
   "cell_type": "code",
   "execution_count": 13,
   "metadata": {},
   "outputs": [],
   "source": [
    "df = pd.read_csv('parkinsons_updrs.csv')"
   ]
  },
  {
   "cell_type": "code",
   "execution_count": 14,
   "metadata": {},
   "outputs": [
    {
     "name": "stdout",
     "output_type": "stream",
     "text": [
      "     subject#  age  sex  test_time  motor_UPDRS  total_UPDRS  Jitter(%)  \\\n",
      "0           1   72    0     5.6431       28.199       34.398    0.00662   \n",
      "1           1   72    0    12.6660       28.447       34.894    0.00300   \n",
      "2           1   72    0    19.6810       28.695       35.389    0.00481   \n",
      "3           1   72    0    25.6470       28.905       35.810    0.00528   \n",
      "4           1   72    0    33.6420       29.187       36.375    0.00335   \n",
      "..        ...  ...  ...        ...          ...          ...        ...   \n",
      "195         2   58    0   166.7600       17.941       20.647    0.00700   \n",
      "196         2   58    0   171.8000       18.309       21.067    0.00777   \n",
      "197         2   58    0   178.8000       18.819       21.650    0.00437   \n",
      "198         2   58    0     3.8660       11.078       14.039    0.00725   \n",
      "199         2   58    0    10.8150       11.218       14.109    0.00970   \n",
      "\n",
      "     Jitter(Abs)  Jitter:RAP  Jitter:PPQ5  ...  Shimmer(dB)  Shimmer:APQ3  \\\n",
      "0       0.000034     0.00401      0.00317  ...        0.230       0.01438   \n",
      "1       0.000017     0.00132      0.00150  ...        0.179       0.00994   \n",
      "2       0.000025     0.00205      0.00208  ...        0.181       0.00734   \n",
      "3       0.000027     0.00191      0.00264  ...        0.327       0.01106   \n",
      "4       0.000020     0.00093      0.00130  ...        0.176       0.00679   \n",
      "..           ...         ...          ...  ...          ...           ...   \n",
      "195     0.000050     0.00309      0.00290  ...        0.616       0.02582   \n",
      "196     0.000064     0.00381      0.00460  ...        0.317       0.01982   \n",
      "197     0.000033     0.00188      0.00224  ...        0.195       0.01112   \n",
      "198     0.000055     0.00340      0.00330  ...        0.318       0.01908   \n",
      "199     0.000066     0.00510      0.00490  ...        0.568       0.02949   \n",
      "\n",
      "     Shimmer:APQ5  Shimmer:APQ11  Shimmer:DDA       NHR     HNR     RPDE  \\\n",
      "0         0.01309        0.01662      0.04314  0.014290  21.640  0.41888   \n",
      "1         0.01072        0.01689      0.02982  0.011112  27.183  0.43493   \n",
      "2         0.00844        0.01458      0.02202  0.020220  23.047  0.46222   \n",
      "3         0.01265        0.01963      0.03317  0.027837  24.445  0.48730   \n",
      "4         0.00929        0.01819      0.02036  0.011625  26.126  0.47188   \n",
      "..            ...            ...          ...       ...     ...      ...   \n",
      "195       0.02921        0.03823      0.07747  0.067650  21.257  0.54206   \n",
      "196       0.02008        0.02259      0.05945  0.032229  19.669  0.50186   \n",
      "197       0.01269        0.01752      0.03335  0.008146  25.919  0.44509   \n",
      "198       0.02029        0.02445      0.05723  0.036085  20.883  0.50137   \n",
      "199       0.03156        0.03813      0.08846  0.039924  18.384  0.49252   \n",
      "\n",
      "         DFA      PPE  \n",
      "0    0.54842  0.16006  \n",
      "1    0.56477  0.10810  \n",
      "2    0.54405  0.21014  \n",
      "3    0.57794  0.33277  \n",
      "4    0.56122  0.19361  \n",
      "..       ...      ...  \n",
      "195  0.73044  0.32633  \n",
      "196  0.79112  0.22276  \n",
      "197  0.75375  0.18151  \n",
      "198  0.75108  0.24236  \n",
      "199  0.75548  0.23707  \n",
      "\n",
      "[200 rows x 22 columns]\n"
     ]
    }
   ],
   "source": [
    "print(df[:200])"
   ]
  },
  {
   "cell_type": "code",
   "execution_count": 15,
   "metadata": {},
   "outputs": [
    {
     "name": "stderr",
     "output_type": "stream",
     "text": [
      "C:\\Users\\VAIBHA~1\\AppData\\Local\\Temp/ipykernel_3740/1242451383.py:2: FutureWarning: In a future version of pandas all arguments of DataFrame.drop except for the argument 'labels' will be keyword-only.\n",
      "  X = df.drop(['total_UPDRS'],1)\n"
     ]
    }
   ],
   "source": [
    "df.drop(['subject#','age','sex','test_time','Shimmer:DDA','motor_UPDRS','Jitter(Abs)','Jitter:RAP','Jitter:PPQ5','Jitter:DDP','Shimmer(dB)','Shimmer:APQ3','Shimmer:APQ5','Shimmer:APQ11',],axis=1, inplace=True )\n",
    "X = df.drop(['total_UPDRS'],1)\n",
    "y = df.total_UPDRS"
   ]
  },
  {
   "cell_type": "code",
   "execution_count": 16,
   "metadata": {},
   "outputs": [
    {
     "name": "stdout",
     "output_type": "stream",
     "text": [
      "      Jitter(%)  Shimmer       NHR     HNR     RPDE      DFA      PPE\n",
      "0       0.00662  0.02565  0.014290  21.640  0.41888  0.54842  0.16006\n",
      "1       0.00300  0.02024  0.011112  27.183  0.43493  0.56477  0.10810\n",
      "2       0.00481  0.01675  0.020220  23.047  0.46222  0.54405  0.21014\n",
      "3       0.00528  0.02309  0.027837  24.445  0.48730  0.57794  0.33277\n",
      "4       0.00335  0.01703  0.011625  26.126  0.47188  0.56122  0.19361\n",
      "...         ...      ...       ...     ...      ...      ...      ...\n",
      "5870    0.00406  0.01896  0.025137  22.369  0.64215  0.55314  0.21367\n",
      "5871    0.00297  0.02315  0.011927  22.886  0.52598  0.56518  0.12621\n",
      "5872    0.00349  0.02499  0.017701  25.065  0.47792  0.57888  0.14157\n",
      "5873    0.00281  0.01484  0.007984  24.422  0.56865  0.56327  0.14204\n",
      "5874    0.00282  0.01907  0.008172  23.259  0.58608  0.57077  0.15336\n",
      "\n",
      "[5875 rows x 7 columns]\n",
      "0       34.398\n",
      "1       34.894\n",
      "2       35.389\n",
      "3       35.810\n",
      "4       36.375\n",
      "         ...  \n",
      "5870    33.485\n",
      "5871    32.988\n",
      "5872    32.495\n",
      "5873    32.007\n",
      "5874    31.513\n",
      "Name: total_UPDRS, Length: 5875, dtype: float64\n"
     ]
    }
   ],
   "source": [
    "print(X)\n",
    "print(y)"
   ]
  }
 ],
 "metadata": {
  "kernelspec": {
   "display_name": "Python 3.10.1 64-bit",
   "language": "python",
   "name": "python3"
  },
  "language_info": {
   "codemirror_mode": {
    "name": "ipython",
    "version": 3
   },
   "file_extension": ".py",
   "mimetype": "text/x-python",
   "name": "python",
   "nbconvert_exporter": "python",
   "pygments_lexer": "ipython3",
   "version": "3.10.1"
  },
  "orig_nbformat": 4,
  "vscode": {
   "interpreter": {
    "hash": "7e4ec771783b378d4ba76dae6f60e58ce056e6f3fc468e0ecd3758d9441ace60"
   }
  }
 },
 "nbformat": 4,
 "nbformat_minor": 2
}
